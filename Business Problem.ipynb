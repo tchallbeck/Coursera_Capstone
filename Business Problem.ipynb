{
    "cells": [
        {
            "metadata": {
                "collapsed": true
            },
            "cell_type": "markdown",
            "source": "The business problem I will be exploring is the trying to predict the severity of a car accident depending on several other variables that I will use to train a model. I will use the provided sample data to further explore this topic. The target audience would be anyone who owns a car or drives on a regular basis and would be concerned about their safety. They could use it to predict if they are at risk of having a severe accident on that day before they start driving."
        },
        {
            "metadata": {},
            "cell_type": "code",
            "source": "",
            "execution_count": null,
            "outputs": []
        }
    ],
    "metadata": {
        "kernelspec": {
            "name": "python3",
            "display_name": "Python 3.6",
            "language": "python"
        },
        "language_info": {
            "name": "python",
            "version": "3.6.9",
            "mimetype": "text/x-python",
            "codemirror_mode": {
                "name": "ipython",
                "version": 3
            },
            "pygments_lexer": "ipython3",
            "nbconvert_exporter": "python",
            "file_extension": ".py"
        }
    },
    "nbformat": 4,
    "nbformat_minor": 1
}
